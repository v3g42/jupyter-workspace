{
 "cells": [
  {
   "cell_type": "code",
   "execution_count": 88,
   "metadata": {
    "collapsed": false
   },
   "outputs": [],
   "source": [
    "import csv as csv\n",
    "import numpy as np\n",
    "import pandas as pd\n",
    "import matplotlib.pyplot as plt  \n",
    "from sklearn.preprocessing import MinMaxScaler\n",
    "import scipy.optimize as opt  \n",
    "from sklearn import metrics, linear_model, tree, ensemble\n"
   ]
  },
  {
   "cell_type": "code",
   "execution_count": null,
   "metadata": {
    "collapsed": true
   },
   "outputs": [],
   "source": []
  },
  {
   "cell_type": "code",
   "execution_count": 3,
   "metadata": {
    "collapsed": false
   },
   "outputs": [],
   "source": [
    "# Reading using numpy arrays\n",
    "\n",
    "data=[] \n",
    "csv_file_object = csv.reader(open('./data/train.csv', 'r')) \n",
    "for row in csv_file_object:\n",
    "    data.append(row)\n",
    "data = np.array(data) \n",
    "\n"
   ]
  },
  {
   "cell_type": "code",
   "execution_count": 4,
   "metadata": {
    "collapsed": false
   },
   "outputs": [
    {
     "data": {
      "text/html": [
       "<div>\n",
       "<table border=\"1\" class=\"dataframe\">\n",
       "  <thead>\n",
       "    <tr style=\"text-align: right;\">\n",
       "      <th></th>\n",
       "      <th>PassengerId</th>\n",
       "      <th>Survived</th>\n",
       "      <th>Pclass</th>\n",
       "      <th>Name</th>\n",
       "      <th>Sex</th>\n",
       "      <th>Age</th>\n",
       "      <th>SibSp</th>\n",
       "      <th>Parch</th>\n",
       "      <th>Ticket</th>\n",
       "      <th>Fare</th>\n",
       "      <th>Cabin</th>\n",
       "      <th>Embarked</th>\n",
       "    </tr>\n",
       "  </thead>\n",
       "  <tbody>\n",
       "    <tr>\n",
       "      <th>0</th>\n",
       "      <td>1</td>\n",
       "      <td>0</td>\n",
       "      <td>3</td>\n",
       "      <td>Braund, Mr. Owen Harris</td>\n",
       "      <td>male</td>\n",
       "      <td>22.0</td>\n",
       "      <td>1</td>\n",
       "      <td>0</td>\n",
       "      <td>A/5 21171</td>\n",
       "      <td>7.2500</td>\n",
       "      <td>NaN</td>\n",
       "      <td>S</td>\n",
       "    </tr>\n",
       "    <tr>\n",
       "      <th>1</th>\n",
       "      <td>2</td>\n",
       "      <td>1</td>\n",
       "      <td>1</td>\n",
       "      <td>Cumings, Mrs. John Bradley (Florence Briggs Th...</td>\n",
       "      <td>female</td>\n",
       "      <td>38.0</td>\n",
       "      <td>1</td>\n",
       "      <td>0</td>\n",
       "      <td>PC 17599</td>\n",
       "      <td>71.2833</td>\n",
       "      <td>C85</td>\n",
       "      <td>C</td>\n",
       "    </tr>\n",
       "    <tr>\n",
       "      <th>2</th>\n",
       "      <td>3</td>\n",
       "      <td>1</td>\n",
       "      <td>3</td>\n",
       "      <td>Heikkinen, Miss. Laina</td>\n",
       "      <td>female</td>\n",
       "      <td>26.0</td>\n",
       "      <td>0</td>\n",
       "      <td>0</td>\n",
       "      <td>STON/O2. 3101282</td>\n",
       "      <td>7.9250</td>\n",
       "      <td>NaN</td>\n",
       "      <td>S</td>\n",
       "    </tr>\n",
       "  </tbody>\n",
       "</table>\n",
       "</div>"
      ],
      "text/plain": [
       "   PassengerId  Survived  Pclass  \\\n",
       "0            1         0       3   \n",
       "1            2         1       1   \n",
       "2            3         1       3   \n",
       "\n",
       "                                                Name     Sex   Age  SibSp  \\\n",
       "0                            Braund, Mr. Owen Harris    male  22.0      1   \n",
       "1  Cumings, Mrs. John Bradley (Florence Briggs Th...  female  38.0      1   \n",
       "2                             Heikkinen, Miss. Laina  female  26.0      0   \n",
       "\n",
       "   Parch            Ticket     Fare Cabin Embarked  \n",
       "0      0         A/5 21171   7.2500   NaN        S  \n",
       "1      0          PC 17599  71.2833   C85        C  \n",
       "2      0  STON/O2. 3101282   7.9250   NaN        S  "
      ]
     },
     "execution_count": 4,
     "metadata": {},
     "output_type": "execute_result"
    }
   ],
   "source": [
    "# Reading using pandas\n",
    "\n",
    "df = pd.read_csv('./data/train.csv', header=0)\n",
    "df.head(3)"
   ]
  },
  {
   "cell_type": "code",
   "execution_count": 26,
   "metadata": {
    "collapsed": false
   },
   "outputs": [],
   "source": [
    "df['Gender'] = df['Sex'].map({'male': 1, 'female': 0}).astype(int)"
   ]
  },
  {
   "cell_type": "code",
   "execution_count": 27,
   "metadata": {
    "collapsed": false
   },
   "outputs": [
    {
     "data": {
      "text/plain": [
       "array([[ 35. ,  28. ,  21.5],\n",
       "       [ 40. ,  30. ,  25. ]])"
      ]
     },
     "execution_count": 27,
     "metadata": {},
     "output_type": "execute_result"
    }
   ],
   "source": [
    "median_ages = np.zeros((2,3))\n",
    "for i in range(0, 2):\n",
    "    for j in range(0, 3):\n",
    "        median_ages[i,j] = df[(df['Gender'] == i) & \\\n",
    "                              (df['Pclass'] == j+1)]['Age'].dropna().median()\n",
    "median_ages"
   ]
  },
  {
   "cell_type": "code",
   "execution_count": null,
   "metadata": {
    "collapsed": true
   },
   "outputs": [],
   "source": []
  },
  {
   "cell_type": "code",
   "execution_count": 28,
   "metadata": {
    "collapsed": false
   },
   "outputs": [],
   "source": [
    "df['AgeFill'] = df['Age']"
   ]
  },
  {
   "cell_type": "code",
   "execution_count": 29,
   "metadata": {
    "collapsed": false
   },
   "outputs": [
    {
     "data": {
      "text/html": [
       "<div>\n",
       "<table border=\"1\" class=\"dataframe\">\n",
       "  <thead>\n",
       "    <tr style=\"text-align: right;\">\n",
       "      <th></th>\n",
       "      <th>Gender</th>\n",
       "      <th>Pclass</th>\n",
       "      <th>Age</th>\n",
       "      <th>AgeFill</th>\n",
       "    </tr>\n",
       "  </thead>\n",
       "  <tbody>\n",
       "    <tr>\n",
       "      <th>5</th>\n",
       "      <td>1</td>\n",
       "      <td>3</td>\n",
       "      <td>NaN</td>\n",
       "      <td>NaN</td>\n",
       "    </tr>\n",
       "    <tr>\n",
       "      <th>17</th>\n",
       "      <td>1</td>\n",
       "      <td>2</td>\n",
       "      <td>NaN</td>\n",
       "      <td>NaN</td>\n",
       "    </tr>\n",
       "    <tr>\n",
       "      <th>19</th>\n",
       "      <td>0</td>\n",
       "      <td>3</td>\n",
       "      <td>NaN</td>\n",
       "      <td>NaN</td>\n",
       "    </tr>\n",
       "    <tr>\n",
       "      <th>26</th>\n",
       "      <td>1</td>\n",
       "      <td>3</td>\n",
       "      <td>NaN</td>\n",
       "      <td>NaN</td>\n",
       "    </tr>\n",
       "    <tr>\n",
       "      <th>28</th>\n",
       "      <td>0</td>\n",
       "      <td>3</td>\n",
       "      <td>NaN</td>\n",
       "      <td>NaN</td>\n",
       "    </tr>\n",
       "  </tbody>\n",
       "</table>\n",
       "</div>"
      ],
      "text/plain": [
       "    Gender  Pclass  Age  AgeFill\n",
       "5        1       3  NaN      NaN\n",
       "17       1       2  NaN      NaN\n",
       "19       0       3  NaN      NaN\n",
       "26       1       3  NaN      NaN\n",
       "28       0       3  NaN      NaN"
      ]
     },
     "execution_count": 29,
     "metadata": {},
     "output_type": "execute_result"
    }
   ],
   "source": [
    "df[ df['Age'].isnull() ][['Gender','Pclass','Age','AgeFill']].head()"
   ]
  },
  {
   "cell_type": "code",
   "execution_count": null,
   "metadata": {
    "collapsed": true
   },
   "outputs": [],
   "source": []
  },
  {
   "cell_type": "code",
   "execution_count": 30,
   "metadata": {
    "collapsed": false
   },
   "outputs": [
    {
     "data": {
      "text/html": [
       "<div>\n",
       "<table border=\"1\" class=\"dataframe\">\n",
       "  <thead>\n",
       "    <tr style=\"text-align: right;\">\n",
       "      <th></th>\n",
       "      <th>Gender</th>\n",
       "      <th>Pclass</th>\n",
       "      <th>Age</th>\n",
       "      <th>AgeFill</th>\n",
       "    </tr>\n",
       "  </thead>\n",
       "  <tbody>\n",
       "    <tr>\n",
       "      <th>5</th>\n",
       "      <td>1</td>\n",
       "      <td>3</td>\n",
       "      <td>NaN</td>\n",
       "      <td>25.0</td>\n",
       "    </tr>\n",
       "    <tr>\n",
       "      <th>17</th>\n",
       "      <td>1</td>\n",
       "      <td>2</td>\n",
       "      <td>NaN</td>\n",
       "      <td>30.0</td>\n",
       "    </tr>\n",
       "    <tr>\n",
       "      <th>19</th>\n",
       "      <td>0</td>\n",
       "      <td>3</td>\n",
       "      <td>NaN</td>\n",
       "      <td>21.5</td>\n",
       "    </tr>\n",
       "    <tr>\n",
       "      <th>26</th>\n",
       "      <td>1</td>\n",
       "      <td>3</td>\n",
       "      <td>NaN</td>\n",
       "      <td>25.0</td>\n",
       "    </tr>\n",
       "    <tr>\n",
       "      <th>28</th>\n",
       "      <td>0</td>\n",
       "      <td>3</td>\n",
       "      <td>NaN</td>\n",
       "      <td>21.5</td>\n",
       "    </tr>\n",
       "  </tbody>\n",
       "</table>\n",
       "</div>"
      ],
      "text/plain": [
       "    Gender  Pclass  Age  AgeFill\n",
       "5        1       3  NaN     25.0\n",
       "17       1       2  NaN     30.0\n",
       "19       0       3  NaN     21.5\n",
       "26       1       3  NaN     25.0\n",
       "28       0       3  NaN     21.5"
      ]
     },
     "execution_count": 30,
     "metadata": {},
     "output_type": "execute_result"
    }
   ],
   "source": [
    "for i in range(0, 2):\n",
    "    for j in range(0, 3):\n",
    "        df.loc[ (df.Age.isnull()) & (df.Gender == i) & (df.Pclass == j+1),\\\n",
    "                'AgeFill'] = median_ages[i,j]\n",
    "df[ df['Age'].isnull() ][['Gender','Pclass','Age','AgeFill']].head()"
   ]
  },
  {
   "cell_type": "code",
   "execution_count": 31,
   "metadata": {
    "collapsed": true
   },
   "outputs": [],
   "source": [
    "df['AgeIsNull'] = pd.isnull(df.Age).astype(int)\n",
    "\n",
    "# Feature Engineering\n",
    "df['FamilySize'] = df['SibSp'] + df['Parch']\n",
    "\n",
    "# As we know Pclass made a lot of effect on survival\n",
    "df['Age*Class'] = df.AgeFill * df.Pclass"
   ]
  },
  {
   "cell_type": "markdown",
   "metadata": {
    "collapsed": true
   },
   "source": [
    "#### Setting null embarked values to S as it is the most common occurence"
   ]
  },
  {
   "cell_type": "code",
   "execution_count": 33,
   "metadata": {
    "collapsed": false
   },
   "outputs": [],
   "source": [
    "df['EmbarkedIsNull'] = pd.isnull(df.Embarked).astype(int)"
   ]
  },
  {
   "cell_type": "code",
   "execution_count": 34,
   "metadata": {
    "collapsed": false
   },
   "outputs": [],
   "source": [
    "df.loc[df.Embarked.isnull(), 'Embarked'] = 'S'"
   ]
  },
  {
   "cell_type": "code",
   "execution_count": 35,
   "metadata": {
    "collapsed": true
   },
   "outputs": [],
   "source": [
    "df['EmbarkedInt'] = df['Embarked'].map({'S': 0, 'C': 1, 'Q': 2}).astype(int)"
   ]
  },
  {
   "cell_type": "code",
   "execution_count": 36,
   "metadata": {
    "collapsed": false
   },
   "outputs": [
    {
     "data": {
      "text/plain": [
       "Survived\n",
       "0    549\n",
       "1    342\n",
       "dtype: int64"
      ]
     },
     "execution_count": 36,
     "metadata": {},
     "output_type": "execute_result"
    }
   ],
   "source": [
    "df.groupby('Survived').size()"
   ]
  },
  {
   "cell_type": "markdown",
   "metadata": {
    "collapsed": true
   },
   "source": [
    "### Trying to recreate logistic regression as discussed in Andrew Ng's lecture"
   ]
  },
  {
   "cell_type": "code",
   "execution_count": 37,
   "metadata": {
    "collapsed": false
   },
   "outputs": [],
   "source": [
    "positive = df[df['Survived'].astype(bool)]\n",
    "negative = df[~df['Survived'].astype(bool)]"
   ]
  },
  {
   "cell_type": "code",
   "execution_count": 38,
   "metadata": {
    "collapsed": false
   },
   "outputs": [],
   "source": [
    "def extract_variables(dFrame):\n",
    "    X = np.array(dFrame.drop(['Survived'], axis=1).values)\n",
    "    y = np.array(dFrame.Survived.values)\n",
    "    return X, y\n",
    "\n",
    "def scale(d):\n",
    "    dFrame = d.copy(deep=True)\n",
    "    scaler = MinMaxScaler()\n",
    "    dFrame[['Pclass', 'Fare', 'AgeFill', 'Age*Class', 'SibSp', 'Parch', 'FamilySize', 'EmbarkedInt']] = scaler.fit_transform(dFrame[['Pclass', 'Fare', 'AgeFill', 'Age*Class', 'SibSp', 'Parch', 'FamilySize', 'EmbarkedInt']])\n",
    "    return dFrame\n",
    "    \n",
    "def transform(d):\n",
    "    dFrame = d.copy(deep=True)\n",
    "    # Feature Engineering\n",
    "    \n",
    "    # Replacing Gender with Sex( binary mapping)\n",
    "    dFrame['Gender'] = dFrame['Sex'].map({'male': 1, 'female': 0}).astype(int)\n",
    "    ## calculating median of age and replacing all nulls\n",
    "    dFrame['AgeFill'] = dFrame['Age'] \n",
    "    ## Storing where age is null\n",
    "    dFrame['AgeIsNull'] = pd.isnull(dFrame.Age).astype(int)\n",
    "    median_ages = np.zeros((2,3))\n",
    "    for i in range(0, 2):\n",
    "        for j in range(0, 3):\n",
    "            median_ages[i,j] = dFrame[(dFrame['Gender'] == i) & \\\n",
    "                              (dFrame['Pclass'] == j+1)]['Age'].dropna().median()\n",
    "    for i in range(0, 2):\n",
    "        for j in range(0, 3):\n",
    "            dFrame.loc[ (dFrame.Age.isnull()) & (dFrame.Gender == i) & (dFrame.Pclass == j+1),\\\n",
    "                'AgeFill'] = median_ages[i,j]\n",
    "\n",
    "    # Additional features which me be predictive\n",
    "    dFrame['FamilySize'] = dFrame['SibSp'] + dFrame['Parch']\n",
    "\n",
    "    # As we know Pclass made a lot of effect on survival\n",
    "    dFrame['Age*Class'] = dFrame.AgeFill * dFrame.Pclass\n",
    "    \n",
    "    dFrame['EmbarkedIsNull'] = pd.isnull(dFrame.Embarked).astype(int)\n",
    "    dFrame.loc[dFrame.Embarked.isnull(), 'Embarked'] = 'S'\n",
    "    dFrame['EmbarkedInt'] = dFrame['Embarked'].map({'S': 0, 'C': 1, 'Q': 2}).astype(int)\n",
    "\n",
    "    dFrame = dFrame.drop(['PassengerId', 'Name', 'Sex', 'Ticket', 'Cabin', 'Embarked', \"Age\"], axis=1) \n",
    "    # Adding 0th column\n",
    "    dFrame.insert(0, 'Ones', 1)\n",
    "    return dFrame\n"
   ]
  },
  {
   "cell_type": "markdown",
   "metadata": {},
   "source": [
    "### Train Data set and calculate accuracy"
   ]
  },
  {
   "cell_type": "code",
   "execution_count": 110,
   "metadata": {
    "collapsed": false
   },
   "outputs": [],
   "source": [
    "initialSet = pd.read_csv('./data/train.csv', header=0)\n",
    "initialSet = transform(initialSet)\n",
    "initialSet = scale(initialSet)\n",
    "\n",
    "trainFrame = trainFrame[:791]\n",
    "X,y  =  extract_variables(initialSet)\n",
    "Xtrain,ytrain  =  extract_variables(trainFrame)\n",
    "testFrame = initialSet[100:]\n",
    "X_test,y_test =  extract_variables(testFrame)"
   ]
  },
  {
   "cell_type": "code",
   "execution_count": 111,
   "metadata": {
    "collapsed": false
   },
   "outputs": [],
   "source": [
    "def trainAndTest(model):\n",
    "    model.fit(Xtrain, ytrain)\n",
    "    predictions = model.predict(Xtrain)  \n",
    "    name = type(model).__name__\n",
    "    print(name)\n",
    "    print(\"Train Accuracy {x}\".format(x=metrics.accuracy_score(predictions, ytrain)))\n",
    "    predictions_test = model.predict(X_test)  \n",
    "\n",
    "    accuracy = metrics.accuracy_score(predictions_test, y_test)\n",
    "    print(\"Test Accuracy {x}\".format(x=accuracy))\n",
    "    return {'accuracy': accuracy, 'model': model, 'name': name}\n"
   ]
  },
  {
   "cell_type": "code",
   "execution_count": 112,
   "metadata": {
    "collapsed": false
   },
   "outputs": [
    {
     "name": "stdout",
     "output_type": "stream",
     "text": [
      "LogisticRegressionCV\n",
      "Train Accuracy 0.8040455120101138\n",
      "Test Accuracy 0.8053097345132744\n",
      "DecisionTreeClassifier\n",
      "Train Accuracy 0.9823008849557522\n",
      "Test Accuracy 0.9608091024020228\n",
      "RandomForestClassifier\n",
      "Train Accuracy 0.9823008849557522\n",
      "Test Accuracy 0.9646017699115044\n"
     ]
    }
   ],
   "source": [
    "classifiers = [\n",
    "    linear_model.LogisticRegressionCV(),\n",
    "    tree.DecisionTreeClassifier(),\n",
    "    ensemble.RandomForestClassifier(n_estimators=100, max_depth=100)\n",
    "]\n",
    "accuracy = 0\n",
    "model = None\n",
    "for classifier in classifiers: \n",
    "    result = trainAndTest(classifier)\n",
    "    if(result['accuracy'] > accuracy):\n",
    "        accuracy = result['accuracy']\n",
    "        model = result['model']"
   ]
  },
  {
   "cell_type": "code",
   "execution_count": 113,
   "metadata": {
    "collapsed": false
   },
   "outputs": [
    {
     "data": {
      "text/plain": [
       "RandomForestClassifier(bootstrap=True, class_weight=None, criterion='gini',\n",
       "            max_depth=100, max_features='auto', max_leaf_nodes=None,\n",
       "            min_samples_leaf=1, min_samples_split=2,\n",
       "            min_weight_fraction_leaf=0.0, n_estimators=100, n_jobs=1,\n",
       "            oob_score=False, random_state=None, verbose=0,\n",
       "            warm_start=False)"
      ]
     },
     "execution_count": 113,
     "metadata": {},
     "output_type": "execute_result"
    }
   ],
   "source": [
    "model = ensemble.RandomForestClassifier(n_estimators=100, max_depth=100)\n",
    "model.fit(X, y)"
   ]
  },
  {
   "cell_type": "code",
   "execution_count": 114,
   "metadata": {
    "collapsed": false
   },
   "outputs": [],
   "source": [
    "init_final_frame = pd.read_csv('./data/test.csv', header=0)\n",
    "finalFrame = init_final_frame.copy(deep=True)    \n",
    "finalFrame.ix[152,'Fare'] = finalFrame.Fare.median()\n",
    "finalFrame = transform(finalFrame)\n",
    "finalFrame = scale(finalFrame)\n",
    "Xfinal = np.array(finalFrame.values)\n",
    "yPredicted = model.predict(Xfinal) "
   ]
  },
  {
   "cell_type": "code",
   "execution_count": 115,
   "metadata": {
    "collapsed": false
   },
   "outputs": [],
   "source": [
    "output =  pd.DataFrame({'PassengerId': init_final_frame.PassengerId, 'Survived':yPredicted})"
   ]
  },
  {
   "cell_type": "code",
   "execution_count": 116,
   "metadata": {
    "collapsed": false
   },
   "outputs": [
    {
     "data": {
      "text/plain": [
       "Survived\n",
       "0    286\n",
       "1    132\n",
       "dtype: int64"
      ]
     },
     "execution_count": 116,
     "metadata": {},
     "output_type": "execute_result"
    }
   ],
   "source": [
    "output.groupby('Survived').size()"
   ]
  },
  {
   "cell_type": "code",
   "execution_count": 117,
   "metadata": {
    "collapsed": false
   },
   "outputs": [],
   "source": [
    "output.to_csv('./data/titanic_{0}_{1}.csv'.format(type(model).__name__, accuracy), index=False)"
   ]
  },
  {
   "cell_type": "code",
   "execution_count": null,
   "metadata": {
    "collapsed": true
   },
   "outputs": [],
   "source": []
  }
 ],
 "metadata": {
  "kernelspec": {
   "display_name": "Python 3",
   "language": "python",
   "name": "python3"
  },
  "language_info": {
   "codemirror_mode": {
    "name": "ipython",
    "version": 3
   },
   "file_extension": ".py",
   "mimetype": "text/x-python",
   "name": "python",
   "nbconvert_exporter": "python",
   "pygments_lexer": "ipython3",
   "version": "3.5.2"
  }
 },
 "nbformat": 4,
 "nbformat_minor": 0
}
